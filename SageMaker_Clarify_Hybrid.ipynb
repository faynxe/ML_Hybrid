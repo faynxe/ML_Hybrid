{
 "cells": [
  {
   "cell_type": "code",
   "execution_count": 3,
   "id": "1c50c6cb-2e2f-4277-a6f0-7147bd5d13da",
   "metadata": {
    "tags": []
   },
   "outputs": [],
   "source": [
    "# cell 01\n",
    "from io import StringIO\n",
    "import os\n",
    "import time\n",
    "import sys\n",
    "import IPython\n",
    "from time import gmtime, strftime\n",
    "\n",
    "import boto3\n",
    "import numpy as np\n",
    "import pandas as pd\n",
    "import urllib\n",
    "\n",
    "import sagemaker\n",
    "from sagemaker.s3 import S3Uploader\n",
    "from sagemaker.processing import ProcessingInput, ProcessingOutput\n",
    "from sagemaker.sklearn.processing import SKLearnProcessor\n",
    "from sagemaker.inputs import TrainingInput\n",
    "from sagemaker.xgboost import XGBoost\n",
    "from sagemaker.s3 import S3Downloader\n",
    "from sagemaker.s3 import S3Uploader\n",
    "from sagemaker import Session\n",
    "from sagemaker import get_execution_role\n",
    "from sagemaker.xgboost import XGBoostModel\n",
    "from sagemaker.sklearn import SKLearnModel\n",
    "from sagemaker.pipeline import PipelineModel\n",
    "\n",
    "\n",
    "session = Session()\n",
    "bucket = session.default_bucket()\n",
    "prefix = \"hybrid_approach\"\n",
    "region = session.boto_region_name\n",
    "\n",
    "# Define IAM role\n",
    "role = get_execution_role()"
   ]
  },
  {
   "cell_type": "markdown",
   "id": "a6c23e44-dad3-4d82-8ce9-f1fada4ab530",
   "metadata": {},
   "source": [
    "Captured inference data merged with groundtruth label. Label is \"credit_risk\""
   ]
  },
  {
   "cell_type": "code",
   "execution_count": 34,
   "id": "41db3656-3ac8-4616-9639-248d8900798d",
   "metadata": {
    "tags": []
   },
   "outputs": [
    {
     "name": "stderr",
     "output_type": "stream",
     "text": [
      "INFO:botocore.credentials:Found credentials in shared credentials file: ~/.aws/credentials\n"
     ]
    },
    {
     "name": "stdout",
     "output_type": "stream",
     "text": [
      "s3://sagemaker-us-east-1-259508681668/hybrid_approach/data/test/captured_data.csv\n"
     ]
    }
   ],
   "source": [
    "# Captured inference data merged with groundtruth label. Label is \"credit_risk\".\n",
    "# Upload to s3\n",
    "captured_data=\"dataset/captured_data.csv\"\n",
    "captured_inference_features_and_groundtruth = S3Uploader.upload(captured_data, \"s3://{}/{}/data/test\".format(bucket, prefix))\n",
    "print(captured_inference_features_and_groundtruth)"
   ]
  },
  {
   "cell_type": "markdown",
   "id": "e96f35a6-9498-460a-a9b5-3aacc499bc7e",
   "metadata": {},
   "source": [
    "Captured predicted label from endpoint after running the inference data above (excluding the groundtruth label)"
   ]
  },
  {
   "cell_type": "code",
   "execution_count": 35,
   "id": "4ff0e75d-b258-4e47-9e49-009d231d16d7",
   "metadata": {
    "tags": []
   },
   "outputs": [
    {
     "name": "stderr",
     "output_type": "stream",
     "text": [
      "INFO:botocore.credentials:Found credentials in shared credentials file: ~/.aws/credentials\n"
     ]
    },
    {
     "name": "stdout",
     "output_type": "stream",
     "text": [
      "s3://sagemaker-us-east-1-259508681668/hybrid_approach/data/test/prediction.csv\n"
     ]
    }
   ],
   "source": [
    "# Predicted label captured from model inference. Label is \"credit_risk\".\n",
    "# Upload to s3\n",
    "predictions=\"dataset/prediction.csv\"\n",
    "captured_predicted_label = S3Uploader.upload(predictions, \"s3://{}/{}/data/test\".format(bucket, prefix))\n",
    "print(captured_predicted_label)"
   ]
  },
  {
   "cell_type": "code",
   "execution_count": 33,
   "id": "3c9d51de-31ba-445e-b3ae-9480746ee897",
   "metadata": {
    "tags": []
   },
   "outputs": [
    {
     "name": "stderr",
     "output_type": "stream",
     "text": [
      "INFO:botocore.credentials:Found credentials in shared credentials file: ~/.aws/credentials\n"
     ]
    },
    {
     "name": "stdout",
     "output_type": "stream",
     "text": [
      "s3://sagemaker-us-east-1-259508681668/hybrid_approach/data/train/train.csv\n"
     ]
    }
   ],
   "source": [
    "# Train data Upload to s3\n",
    "train=\"dataset/train.csv\"\n",
    "train_dataset = S3Uploader.upload(train, \"s3://{}/{}/data/train\".format(bucket, prefix))\n",
    "print(train_dataset)"
   ]
  },
  {
   "cell_type": "code",
   "execution_count": 15,
   "id": "efdb196f-7ec7-41fd-912e-1d5cd98301b1",
   "metadata": {
    "tags": []
   },
   "outputs": [],
   "source": [
    "# This example uses a pipeline model, where one models does preprocessing on the inference and passes to the other model for prediction.\n",
    "# Upload bothe models to s3\n",
    "preprocessor_model_data=S3Uploader.upload(\"model_sklearn/model.tar.gz\", \"s3://{}/{}/data/train\".format(bucket, prefix))\n",
    "xgboost_model_data=S3Uploader.upload(\"model_xgboost/xgb_model.tar.gz\", \"s3://{}/{}/data/train\".format(bucket, prefix))"
   ]
  },
  {
   "cell_type": "code",
   "execution_count": 48,
   "id": "f81c216f-afa8-42ed-80b2-18a65c79feb3",
   "metadata": {
    "tags": []
   },
   "outputs": [],
   "source": [
    "# Create sagemaker model object for the preprocessing model\n",
    "sklearn_inference_code_location = \"s3://{}/{}/{}/code\".format(bucket, prefix, \"sklearn\")\n",
    "\n",
    "sklearn_model = SKLearnModel(\n",
    "    name=\"sklearn-model-{0}\".format(str(int(time.time()))),\n",
    "    model_data=preprocessor_model_data,\n",
    "    entry_point=\"inference.py\",\n",
    "    source_dir=\"inference/sklearn/\",\n",
    "    code_location=sklearn_inference_code_location,\n",
    "    role=role,\n",
    "    sagemaker_session=session,\n",
    "    framework_version=\"0.20.0\",\n",
    "    py_version=\"py3\",\n",
    ")"
   ]
  },
  {
   "cell_type": "code",
   "execution_count": 49,
   "id": "23b1f524-9299-4e33-9d7a-af053685d338",
   "metadata": {
    "tags": []
   },
   "outputs": [],
   "source": [
    "# Create sagemaker model object for the prediction model\n",
    "\n",
    "xgboost_inference_code_location = \"s3://{}/{}/{}/code\".format(bucket, prefix, \"xgb_model\")\n",
    "\n",
    "xgboost_model = XGBoostModel(\n",
    "    name=\"xgb-model-{0}\".format(str(int(time.time()))),\n",
    "    model_data=xgboost_model_data,\n",
    "    entry_point=\"inference.py\",\n",
    "    source_dir=\"inference/xgboost/\",\n",
    "    code_location=xgboost_inference_code_location,\n",
    "    framework_version=\"0.90-2\",\n",
    "    py_version=\"py3\",\n",
    "    role=role,\n",
    "    sagemaker_session=session,\n",
    ")"
   ]
  },
  {
   "cell_type": "code",
   "execution_count": 50,
   "id": "519da97a-36e5-406e-ac41-c53fd148c62a",
   "metadata": {
    "tags": []
   },
   "outputs": [
    {
     "name": "stderr",
     "output_type": "stream",
     "text": [
      "INFO:sagemaker.image_uris:Defaulting to only available Python version: py3\n",
      "INFO:sagemaker:Creating model with name: credit-risk-inference-pipeline-1705694102\n"
     ]
    }
   ],
   "source": [
    "# create a sagemaker pipeline model object for the two models above\n",
    "pipeline_model_name = \"credit-risk-inference-pipeline-{0}\".format(str(int(time.time())))\n",
    "\n",
    "pipeline_model = PipelineModel(\n",
    "    name=pipeline_model_name,\n",
    "    role=role,\n",
    "    models=[sklearn_model, xgboost_model],\n",
    "    sagemaker_session=session,\n",
    ")\n",
    "pipeline_model.create(instance_type=\"ml.m5.xlarge\")"
   ]
  },
  {
   "cell_type": "markdown",
   "id": "b7fbe7c9-d78f-4c9d-9925-30aa60ffa02b",
   "metadata": {
    "tags": []
   },
   "source": [
    "# We create a sagemaker Clarify processor that will run our bias job"
   ]
  },
  {
   "cell_type": "code",
   "execution_count": 51,
   "id": "7bc652b8-ccfc-49b7-8ac3-5816d0adc1be",
   "metadata": {
    "tags": []
   },
   "outputs": [
    {
     "name": "stderr",
     "output_type": "stream",
     "text": [
      "INFO:sagemaker.image_uris:Defaulting to the only supported framework/algorithm version: 1.0.\n",
      "INFO:sagemaker.image_uris:Ignoring unnecessary instance type: None.\n"
     ]
    }
   ],
   "source": [
    "# cell 25\n",
    "from sagemaker import clarify\n",
    "\n",
    "clarify_processor = clarify.SageMakerClarifyProcessor(\n",
    "    role=role, instance_count=1, instance_type=\"ml.c4.xlarge\", sagemaker_session=session\n",
    ")"
   ]
  },
  {
   "cell_type": "markdown",
   "id": "e69bba93-258a-43de-a4a7-04d3af3b84f2",
   "metadata": {},
   "source": [
    "### Detect data bias with Amazon SageMaker Clarify\n",
    "#### Amazon Science: [How Clarify helps machine learning developers detect unintended bias](https://www.amazon.science/latest-news/how-clarify-helps-machine-learning-developers-detect-unintended-bias)\n",
    "\n",
    "#### [Clarify Terms for Bias and Fairness](https://docs.aws.amazon.com/sagemaker/latest/dg/clarify-detect-data-bias.html) \n",
    "\n",
    "#### [Pre-training bias metrics](https://docs.aws.amazon.com/sagemaker/latest/dg/clarify-measure-data-bias.html)   \n",
    "\n",
    "#### [Post-training bias metrics](https://docs.aws.amazon.com/sagemaker/latest/dg/clarify-measure-post-training-bias.html)\n",
    "\n",
    "#### Calculate pre-training and post-training Bias metrics\n",
    "\n",
    "Note: You can also execute pre-training and post-training bias detection jobs separately"
   ]
  },
  {
   "cell_type": "markdown",
   "id": "37012b2c-6ac8-42ab-b7f7-3cb573af7155",
   "metadata": {},
   "source": [
    "A DataConfig object communicates some basic information about data I/O to Clarify. We specify where to find the input dataset, where to store the output, the target column (label), the header names, and the dataset type.\n",
    "\n",
    "Similarly, the ModelConfig (created earlier for the explainability job) object communicates information about your trained model and ModelPredictedLabelConfig provides information on the format of your predictions."
   ]
  },
  {
   "cell_type": "markdown",
   "id": "d3b6974c-3447-4a65-889e-7b568c9134bc",
   "metadata": {},
   "source": [
    "## First, we get the metrics from the training job to use as a baseline for comparison with out captured inference data bias job"
   ]
  },
  {
   "cell_type": "code",
   "execution_count": 32,
   "id": "f0e2082f-79f8-4f97-9210-977273381a1f",
   "metadata": {
    "tags": []
   },
   "outputs": [
    {
     "data": {
      "text/plain": [
       "['status',\n",
       " 'duration',\n",
       " 'credit_history',\n",
       " 'purpose',\n",
       " 'amount',\n",
       " 'savings',\n",
       " 'employment_duration',\n",
       " 'installment_rate',\n",
       " 'personal_status_sex',\n",
       " 'other_debtors',\n",
       " 'present_residence',\n",
       " 'property',\n",
       " 'age',\n",
       " 'other_installment_plans',\n",
       " 'housing',\n",
       " 'number_credits',\n",
       " 'job',\n",
       " 'people_liable',\n",
       " 'telephone',\n",
       " 'foreign_worker',\n",
       " 'credit_risk']"
      ]
     },
     "execution_count": 32,
     "metadata": {},
     "output_type": "execute_result"
    }
   ],
   "source": [
    "train_headers=pd.read_csv(\"dataset/train.csv\").columns.to_list()\n",
    "train_headers"
   ]
  },
  {
   "cell_type": "code",
   "execution_count": 52,
   "id": "05cba7b3-c683-43ea-9889-3e1eac49d0f0",
   "metadata": {
    "tags": []
   },
   "outputs": [],
   "source": [
    "# cell 51\n",
    "train_bias_report_prefix = \"{}/clarify-bias/train\".format( prefix)\n",
    "train_bias_report_output_path = \"s3://{}/{}\".format(bucket,train_bias_report_prefix)\n",
    "bias_data_config = clarify.DataConfig(\n",
    "    s3_data_input_path=train_dataset, # S3 path of the train dataset\n",
    "    s3_output_path=train_bias_report_output_path,\n",
    "    label=\"credit_risk\", # label of the train dataset\n",
    "    headers=captured_data_headers, # headers of the train dataset\n",
    "    dataset_type=\"text/csv\",   \n",
    ")\n",
    "predictions_config = clarify.ModelPredictedLabelConfig(\n",
    "    probability_threshold=0.7 # threshold for the train label. Prediction above this threshold will be 1 (positive)\n",
    ")"
   ]
  },
  {
   "cell_type": "markdown",
   "id": "004ce068-92e9-4485-b314-938d87940dbe",
   "metadata": {},
   "source": [
    "SageMaker Clarify also needs the sensitive columns (facets) and the desirable outcomes (facet_values_or_threshold).\n",
    "\n",
    "We specify this information in the BiasConfig API. Here  age is the facet that we analyze and 40 is the threshold. The group 'personal_status_sex' is used to form subgroups for the measurement of Conditional Demographic Disparity (CDD) metric only."
   ]
  },
  {
   "cell_type": "code",
   "execution_count": 53,
   "id": "f68ca17f-dafc-41d7-a10f-63f4b3e137fe",
   "metadata": {
    "tags": []
   },
   "outputs": [],
   "source": [
    "\n",
    "bias_config = clarify.BiasConfig(\n",
    "    label_values_or_threshold=[1],  #List of label value(s) or threshold to indicate positive outcome used for bias metrics.\n",
    "    facet_name=\"age\", # Sensitive attribute column name (or index in the input data) to use when computing bias metrics\n",
    "    facet_values_or_threshold=[40], #The parameter controls the values of the sensitive group\n",
    "    group_name=\"personal_status_sex\", #Optional column name or index to indicate a group column to be used for the bias metric Conditional Demographic Disparity in Labels `(CDDL) or Conditional Demographic Disparity in Predicted Labels (CDDPL).\n",
    ")"
   ]
  },
  {
   "cell_type": "markdown",
   "id": "f94a2c8f-9c89-49dd-9111-263fa025c89d",
   "metadata": {},
   "source": [
    "**ModelConfig**: to specify information about the trained model here we re-use the model name created earlier. "
   ]
  },
  {
   "cell_type": "code",
   "execution_count": 54,
   "id": "5e2da9a4-a622-4d65-a4e5-cd96116255ba",
   "metadata": {
    "tags": []
   },
   "outputs": [],
   "source": [
    "# Since we do not have predicted label using our train data, we specify a model config. Sagemaker clarify would use this model to spin up an endpoint and run predictions using our train data\n",
    "model_config = clarify.ModelConfig(\n",
    "    model_name=pipeline_model.name,  # specify the inference pipeline model name ( for your use case you can just specify the xgboost model name `xgboost_model.name` since you are not using a pipeline model)\n",
    "    instance_type=\"ml.c5.xlarge\",\n",
    "    instance_count=1,\n",
    "    accept_type=\"text/csv\",\n",
    ")"
   ]
  },
  {
   "cell_type": "code",
   "execution_count": 55,
   "id": "5aba4e89-48c1-41d3-82bb-edb717d7cbbf",
   "metadata": {
    "tags": []
   },
   "outputs": [
    {
     "name": "stderr",
     "output_type": "stream",
     "text": [
      "INFO:sagemaker.clarify:Analysis Config: {'dataset_type': 'text/csv', 'headers': ['status', 'duration', 'credit_history', 'purpose', 'amount', 'savings', 'employment_duration', 'installment_rate', 'personal_status_sex', 'other_debtors', 'present_residence', 'property', 'age', 'other_installment_plans', 'housing', 'number_credits', 'job', 'people_liable', 'telephone', 'foreign_worker', 'credit_risk'], 'label': 'credit_risk', 'label_values_or_threshold': [1], 'facet': [{'name_or_index': 'age', 'value_or_threshold': [40]}], 'group_variable': 'personal_status_sex', 'methods': {'report': {'name': 'report', 'title': 'Analysis Report'}, 'pre_training_bias': {'methods': 'all'}, 'post_training_bias': {'methods': 'all'}}, 'predictor': {'model_name': 'credit-risk-inference-pipeline-1705694102', 'instance_type': 'ml.c5.xlarge', 'initial_instance_count': 1, 'accept_type': 'text/csv'}, 'probability_threshold': 0.7}\n",
      "INFO:sagemaker:Creating processing-job with name Clarify-Bias-2024-01-19-19-55-17-038\n"
     ]
    },
    {
     "name": "stdout",
     "output_type": "stream",
     "text": [
      "...................................................\u001b[34m2024-01-19 20:03:50,130 logging.conf not found when configuring logging, using default logging configuration.\u001b[0m\n",
      "\u001b[34m2024-01-19 20:03:50,130 Starting SageMaker Clarify Processing job\u001b[0m\n",
      "\u001b[34m2024-01-19 20:03:50,131 Analysis config path: /opt/ml/processing/input/config/analysis_config.json\u001b[0m\n",
      "\u001b[34m2024-01-19 20:03:50,131 Analysis result path: /opt/ml/processing/output\u001b[0m\n",
      "\u001b[34m2024-01-19 20:03:50,132 This host is algo-1.\u001b[0m\n",
      "\u001b[34m2024-01-19 20:03:50,132 This host is the leader.\u001b[0m\n",
      "\u001b[34m2024-01-19 20:03:50,132 Number of hosts in the cluster is 1.\u001b[0m\n",
      "\u001b[34m2024-01-19 20:03:50,429 Running Python / Pandas based analyzer.\u001b[0m\n",
      "\u001b[34m2024-01-19 20:03:50,429 Dataset type: text/csv uri: /opt/ml/processing/input/data\u001b[0m\n",
      "\u001b[34m2024-01-19 20:03:50,435 Loading dataset...\u001b[0m\n",
      "\u001b[34m/usr/local/lib/python3.9/site-packages/analyzer/data_loading/csv_data_loader.py:336: FutureWarning: The frame.append method is deprecated and will be removed from pandas in a future version. Use pandas.concat instead.\n",
      "  df = df.append(df_tmp, ignore_index=True)\u001b[0m\n",
      "\u001b[34m2024-01-19 20:03:50,447 Loaded dataset. Dataset info:\u001b[0m\n",
      "\u001b[34m<class 'pandas.core.frame.DataFrame'>\u001b[0m\n",
      "\u001b[34mRangeIndex: 1000 entries, 0 to 999\u001b[0m\n",
      "\u001b[34mData columns (total 20 columns):\n",
      " #   Column                   Non-Null Count  Dtype\u001b[0m\n",
      "\u001b[34m---  ------                   --------------  -----\n",
      " 0   status                   1000 non-null   int64\n",
      " 1   duration                 1000 non-null   int64\n",
      " 2   credit_history           1000 non-null   int64\n",
      " 3   purpose                  1000 non-null   int64\n",
      " 4   amount                   1000 non-null   int64\n",
      " 5   savings                  1000 non-null   int64\n",
      " 6   employment_duration      1000 non-null   int64\n",
      " 7   installment_rate         1000 non-null   int64\n",
      " 8   personal_status_sex      1000 non-null   int64\n",
      " 9   other_debtors            1000 non-null   int64\n",
      " 10  present_residence        1000 non-null   int64\n",
      " 11  property                 1000 non-null   int64\n",
      " 12  age                      1000 non-null   int64\n",
      " 13  other_installment_plans  1000 non-null   int64\n",
      " 14  housing                  1000 non-null   int64\n",
      " 15  number_credits           1000 non-null   int64\n",
      " 16  job                      1000 non-null   int64\n",
      " 17  people_liable            1000 non-null   int64\n",
      " 18  telephone                1000 non-null   int64\n",
      " 19  foreign_worker           1000 non-null   int64\u001b[0m\n",
      "\u001b[34mdtypes: int64(20)\u001b[0m\n",
      "\u001b[34mmemory usage: 156.4 KB\u001b[0m\n",
      "\u001b[34m2024-01-19 20:03:50,542 Spinning up shadow endpoint\u001b[0m\n",
      "\u001b[34m2024-01-19 20:03:50,542 Creating endpoint-config with name sm-clarify-config-1705694630-5bda\u001b[0m\n",
      "\u001b[34m2024-01-19 20:03:50,878 Creating endpoint: 'sm-clarify-credit-risk-inference-pipeline-17056-1705694630-0cc3'\u001b[0m\n",
      "\u001b[34m2024-01-19 20:03:50,944 No endpoints ruleset found for service sagemaker-internal, falling back to legacy endpoint routing.\u001b[0m\n",
      "\u001b[34m2024-01-19 20:03:51,457 Using endpoint name: sm-clarify-credit-risk-inference-pipeline-17056-1705694630-0cc3\u001b[0m\n",
      "\u001b[34m2024-01-19 20:03:51,457 Waiting for endpoint ...\u001b[0m\n",
      "\u001b[34m2024-01-19 20:03:51,457 Checking endpoint status:\u001b[0m\n",
      "\u001b[34mLegend:\u001b[0m\n",
      "\u001b[34m(OutOfService: x, Creating: -, Updating: -, InService: !, RollingBack: <, Deleting: o, Failed: *)\u001b[0m\n",
      "\u001b[34m2024-01-19 20:07:52,149 Endpoint is in service after 241 seconds\u001b[0m\n",
      "\u001b[34m2024-01-19 20:07:52,149 Endpoint ready.\u001b[0m\n",
      "\u001b[34m2024-01-19 20:07:52,149 ======================================\u001b[0m\n",
      "\u001b[34m2024-01-19 20:07:52,149 Calculating post-training bias metrics\u001b[0m\n",
      "\u001b[34m2024-01-19 20:07:52,149 ======================================\u001b[0m\n",
      "\u001b[34m2024-01-19 20:07:52,149 Getting predictions from the endpoint\u001b[0m\n",
      "\u001b[34m2024-01-19 20:07:52,571 We assume a prediction above 0.700 indicates 1 and below or equal indicates 0.\u001b[0m\n",
      "\u001b[34m2024-01-19 20:07:52,572 Column credit_risk with data uniqueness fraction 0.002 is classifed as a CATEGORICAL column\u001b[0m\n",
      "\u001b[34m2024-01-19 20:07:52,574 Column age with data uniqueness fraction 0.053 is classifed as a CONTINUOUS column\u001b[0m\n",
      "\u001b[34m/usr/local/lib/python3.9/site-packages/smclarify/bias/report.py:591: FutureWarning: In a future version of pandas all arguments of DataFrame.drop except for the argument 'labels' will be keyword-only.\n",
      "  df = df.drop(facet_column.name, 1)\u001b[0m\n",
      "\u001b[34m2024-01-19 20:07:52,576 Column credit_risk with data uniqueness fraction 0.002 is classifed as a CATEGORICAL column\u001b[0m\n",
      "\u001b[34m2024-01-19 20:07:52,578 Column None with data uniqueness fraction 0.002 is classifed as a CATEGORICAL column\u001b[0m\n",
      "\u001b[34m2024-01-19 20:07:52,579 Threshold Interval indices: IntervalIndex([(40, 75]], dtype='interval[int64, right]')\u001b[0m\n",
      "\u001b[34m2024-01-19 20:07:52,759 Calculated global analysis with predictor\u001b[0m\n",
      "\u001b[34m2024-01-19 20:07:52,759 Stop using endpoint: sm-clarify-credit-risk-inference-pipeline-17056-1705694630-0cc3\u001b[0m\n",
      "\u001b[34m2024-01-19 20:07:52,759 Deleting endpoint configuration with name: sm-clarify-config-1705694630-5bda\u001b[0m\n",
      "\u001b[34m2024-01-19 20:07:52,925 Deleting endpoint with name: sm-clarify-credit-risk-inference-pipeline-17056-1705694630-0cc3\u001b[0m\n",
      "\u001b[34m2024-01-19 20:07:53,014 Model endpoint delivered 3.27871 requests per second and a total of 2 requests over 1 seconds\u001b[0m\n",
      "\u001b[34m2024-01-19 20:07:53,014 =====================================\u001b[0m\n",
      "\u001b[34m2024-01-19 20:07:53,015 Calculating pre-training bias metrics\u001b[0m\n",
      "\u001b[34m2024-01-19 20:07:53,015 =====================================\u001b[0m\n",
      "\u001b[34m2024-01-19 20:07:53,015 Column credit_risk with data uniqueness fraction 0.002 is classifed as a CATEGORICAL column\u001b[0m\n",
      "\u001b[34m2024-01-19 20:07:53,017 Column age with data uniqueness fraction 0.053 is classifed as a CONTINUOUS column\u001b[0m\n",
      "\u001b[34m/usr/local/lib/python3.9/site-packages/smclarify/bias/report.py:591: FutureWarning: In a future version of pandas all arguments of DataFrame.drop except for the argument 'labels' will be keyword-only.\n",
      "  df = df.drop(facet_column.name, 1)\u001b[0m\n",
      "\u001b[34m2024-01-19 20:07:53,018 Column credit_risk with data uniqueness fraction 0.002 is classifed as a CATEGORICAL column\u001b[0m\n",
      "\u001b[34m2024-01-19 20:07:53,020 Threshold Interval indices: IntervalIndex([(40, 75]], dtype='interval[int64, right]')\u001b[0m\n",
      "\u001b[34m2024-01-19 20:07:53,083 ======================================\u001b[0m\n",
      "\u001b[34m2024-01-19 20:07:53,084 Calculating bias statistics for report\u001b[0m\n",
      "\u001b[34m2024-01-19 20:07:53,084 ======================================\u001b[0m\n",
      "\u001b[34m2024-01-19 20:07:53,084 Column credit_risk with data uniqueness fraction 0.002 is classifed as a CATEGORICAL column\u001b[0m\n",
      "\u001b[34m2024-01-19 20:07:53,086 Column age with data uniqueness fraction 0.053 is classifed as a CONTINUOUS column\u001b[0m\n",
      "\u001b[34m/usr/local/lib/python3.9/site-packages/smclarify/bias/report.py:591: FutureWarning: In a future version of pandas all arguments of DataFrame.drop except for the argument 'labels' will be keyword-only.\n",
      "  df = df.drop(facet_column.name, 1)\u001b[0m\n",
      "\u001b[34m2024-01-19 20:07:53,087 Column credit_risk with data uniqueness fraction 0.002 is classifed as a CATEGORICAL column\u001b[0m\n",
      "\u001b[34m2024-01-19 20:07:53,088 Column None with data uniqueness fraction 0.002 is classifed as a CATEGORICAL column\u001b[0m\n",
      "\u001b[34m2024-01-19 20:07:53,090 Threshold Interval indices: IntervalIndex([(40, 75]], dtype='interval[int64, right]')\u001b[0m\n",
      "\u001b[34m2024-01-19 20:07:53,110 Column credit_risk with data uniqueness fraction 0.002 is classifed as a CATEGORICAL column\u001b[0m\n",
      "\u001b[34m2024-01-19 20:07:53,111 Column None with data uniqueness fraction 0.002 is classifed as a CATEGORICAL column\u001b[0m\n",
      "\u001b[34m2024-01-19 20:07:53,117 Converting Pandas DataFrame to SparkDataFrame for computing report metadata\u001b[0m\n",
      "\u001b[34m---!20:07:57.450 [main] WARN  o.a.hadoop.util.NativeCodeLoader - Unable to load native-hadoop library for your platform... using builtin-java classes where applicable\u001b[0m\n",
      "\u001b[34m#015[Stage 0:>                                                          (0 + 4) / 4]#015#015                                                                                #0152024-01-19 20:08:11,946 Calculated global analysis without predictor\u001b[0m\n",
      "\u001b[34m2024-01-19 20:08:11,947 Stop using endpoint: None\u001b[0m\n",
      "\u001b[34m2024-01-19 20:08:13,028 ['jupyter', 'nbconvert', '--to', 'html', '--output', '/opt/ml/processing/output/report.html', '/opt/ml/processing/output/report.ipynb', '--template', 'sagemaker-xai']\u001b[0m\n",
      "\u001b[34m[NbConvertApp] Converting notebook /opt/ml/processing/output/report.ipynb to html\u001b[0m\n",
      "\u001b[34m[NbConvertApp] Writing 774760 bytes to /opt/ml/processing/output/report.html\u001b[0m\n",
      "\u001b[34m2024-01-19 20:08:14,401 ['wkhtmltopdf', '-q', '--enable-local-file-access', '/opt/ml/processing/output/report.html', '/opt/ml/processing/output/report.pdf']\u001b[0m\n",
      "\u001b[34m2024-01-19 20:08:15,907 Collected analyses: \u001b[0m\n",
      "\u001b[34m{\n",
      "    \"version\": \"1.0\",\n",
      "    \"post_training_bias_metrics\": {\n",
      "        \"label\": \"credit_risk\",\n",
      "        \"facets\": {\n",
      "            \"age\": [\n",
      "                {\n",
      "                    \"value_or_threshold\": \"(40, 75]\",\n",
      "                    \"metrics\": [\n",
      "                        {\n",
      "                            \"name\": \"AD\",\n",
      "                            \"description\": \"Accuracy Difference (AD)\",\n",
      "                            \"value\": -0.010342598577892659\n",
      "                        },\n",
      "                        {\n",
      "                            \"name\": \"CDDPL\",\n",
      "                            \"description\": \"Conditional Demographic Disparity in Predicted Labels (CDDPL)\",\n",
      "                            \"value\": -0.06204418719006123\n",
      "                        },\n",
      "                        {\n",
      "                            \"name\": \"DAR\",\n",
      "                            \"description\": \"Difference in Acceptance Rates (DAR)\",\n",
      "                            \"value\": 0.007509386733416723\n",
      "                        },\n",
      "                        {\n",
      "                            \"name\": \"DCA\",\n",
      "                            \"description\": \"Difference in Conditional Acceptance (DCA)\",\n",
      "                            \"value\": 0.06739193222297102\n",
      "                        },\n",
      "                        {\n",
      "                            \"name\": \"DCR\",\n",
      "                            \"description\": \"Difference in Conditional Rejection (DCR)\",\n",
      "                            \"value\": 0.05994005994005991\n",
      "                        },\n",
      "                        {\n",
      "                            \"name\": \"DI\",\n",
      "                            \"description\": \"Disparate Impact (DI)\",\n",
      "                            \"value\": 1.13840830449827\n",
      "                        },\n",
      "                        {\n",
      "                            \"name\": \"DPPL\",\n",
      "                            \"description\": \"Difference in Positive Proportions in Predicted Labels (DPPL)\",\n",
      "                            \"value\": -0.08403361344537819\n",
      "                        },\n",
      "                        {\n",
      "                            \"name\": \"DRR\",\n",
      "                            \"description\": \"Difference in Rejection Rates (DRR)\",\n",
      "                            \"value\": -0.017982017982017928\n",
      "                        },\n",
      "                        {\n",
      "                            \"name\": \"FT\",\n",
      "                            \"description\": \"Flip Test (FT)\",\n",
      "                            \"value\": 0.0661764705882353\n",
      "                        },\n",
      "                        {\n",
      "                            \"name\": \"GE\",\n",
      "                            \"description\": \"Generalized Entropy (GE)\",\n",
      "                            \"value\": 0.10353798126951087\n",
      "                        },\n",
      "                        {\n",
      "                            \"name\": \"RD\",\n",
      "                            \"description\": \"Recall Difference (RD)\",\n",
      "                            \"value\": -0.04399999999999993\n",
      "                        },\n",
      "                        {\n",
      "                            \"name\": \"SD\",\n",
      "                            \"description\": \"Specificity Difference (SD)\",\n",
      "                            \"value\": -0.07894736842105265\n",
      "                        },\n",
      "                        {\n",
      "                            \"name\": \"TE\",\n",
      "                            \"description\": \"Treatment Equality (TE)\",\n",
      "                            \"value\": -0.8205128205128205\n",
      "                        }\n",
      "                    ]\n",
      "                }\n",
      "            ]\n",
      "        },\n",
      "        \"label_value_or_threshold\": \"1\"\n",
      "    },\n",
      "    \"pre_training_bias_metrics\": {\n",
      "        \"label\": \"credit_risk\",\n",
      "        \"facets\": {\n",
      "            \"age\": [\n",
      "                {\n",
      "                    \"value_or_threshold\": \"(40, 75]\",\n",
      "                    \"metrics\": [\n",
      "                        {\n",
      "                            \"name\": \"CDDL\",\n",
      "                            \"description\": \"Conditional Demographic Disparity in Labels (CDDL)\",\n",
      "                            \"value\": -0.03536483909471117\n",
      "                        },\n",
      "                        {\n",
      "                            \"name\": \"CI\",\n",
      "                            \"description\": \"Class Imbalance (CI)\",\n",
      "                            \"value\": 0.456\n",
      "                        },\n",
      "                        {\n",
      "                            \"name\": \"DPL\",\n",
      "                            \"description\": \"Difference in Positive Proportions in Labels (DPL)\",\n",
      "                            \"value\": -0.04848093083387206\n",
      "                        },\n",
      "                        {\n",
      "                            \"name\": \"JS\",\n",
      "                            \"description\": \"Jensen-Shannon Divergence (JS)\",\n",
      "                            \"value\": 0.001431263938464945\n",
      "                        },\n",
      "                        {\n",
      "                            \"name\": \"KL\",\n",
      "                            \"description\": \"Kullback-Liebler Divergence (KL)\",\n",
      "                            \"value\": 0.005825598048527517\n",
      "                        },\n",
      "                        {\n",
      "                            \"name\": \"KS\",\n",
      "                            \"description\": \"Kolmogorov-Smirnov Distance (KS)\",\n",
      "                            \"value\": 0.04848093083387206\n",
      "                        },\n",
      "                        {\n",
      "                            \"name\": \"LP\",\n",
      "                            \"description\": \"L-p Norm (LP)\",\n",
      "                            \"value\": 0.06856238990173379\n",
      "                        },\n",
      "                        {\n",
      "                            \"name\": \"TVD\",\n",
      "                            \"description\": \"Total Variation Distance (TVD)\",\n",
      "                            \"value\": 0.04848093083387203\n",
      "                        }\n",
      "                    ]\n",
      "                }\n",
      "            ]\n",
      "        },\n",
      "        \"label_value_or_threshold\": \"1\"\n",
      "    }\u001b[0m\n",
      "\u001b[34m}\u001b[0m\n",
      "\u001b[34m2024-01-19 20:08:15,908 exit_message: Completed: SageMaker XAI Analyzer ran successfully\u001b[0m\n",
      "\n"
     ]
    }
   ],
   "source": [
    "clarify_processor.run_bias(\n",
    "    data_config=bias_data_config,\n",
    "    bias_config=bias_config,\n",
    "    model_config=model_config, \n",
    "    model_predicted_label_config=predictions_config,\n",
    "    pre_training_methods=\"all\",\n",
    "    post_training_methods=\"all\",\n",
    ")"
   ]
  },
  {
   "cell_type": "code",
   "execution_count": 57,
   "id": "5d7048d1-6af9-452d-9737-cad4bc614215",
   "metadata": {
    "tags": []
   },
   "outputs": [
    {
     "name": "stdout",
     "output_type": "stream",
     "text": [
      "2024-01-19 20:08:22       5548 analysis.json\n",
      "2024-01-19 19:55:18        873 analysis_config.json\n",
      "2024-01-19 20:08:22     774760 report.html\n",
      "2024-01-19 20:08:22     503844 report.ipynb\n",
      "2024-01-19 20:08:22     475454 report.pdf\n"
     ]
    }
   ],
   "source": [
    "#Output from the Bias Job on your inference data\n",
    "!aws s3 ls $train_bias_report_output_path/"
   ]
  },
  {
   "cell_type": "code",
   "execution_count": 60,
   "id": "f021bec2-1a88-4aab-bfe6-b5548ec72d0e",
   "metadata": {
    "tags": []
   },
   "outputs": [
    {
     "name": "stdout",
     "output_type": "stream",
     "text": [
      "download: s3://sagemaker-us-east-1-259508681668/hybrid_approach/clarify-bias/analysis_config.json to train_data_bias_report/analysis_config.json\n",
      "download: s3://sagemaker-us-east-1-259508681668/hybrid_approach/clarify-bias/report.ipynb to train_data_bias_report/report.ipynb\n",
      "download: s3://sagemaker-us-east-1-259508681668/hybrid_approach/clarify-bias/report.html to train_data_bias_report/report.html\n",
      "download: s3://sagemaker-us-east-1-259508681668/hybrid_approach/clarify-bias/analysis.json to train_data_bias_report/analysis.json\n",
      "download: s3://sagemaker-us-east-1-259508681668/hybrid_approach/clarify-bias/report.pdf to train_data_bias_report/report.pdf\n"
     ]
    }
   ],
   "source": [
    "# Download all the output files from s3 to local\n",
    "!aws s3 cp --recursive $train_bias_report_output_path \"./train_data_bias_report\""
   ]
  },
  {
   "cell_type": "code",
   "execution_count": 61,
   "id": "63e9208d-7726-447a-8a24-cd0bd86e051e",
   "metadata": {
    "tags": []
   },
   "outputs": [
    {
     "name": "stderr",
     "output_type": "stream",
     "text": [
      "/tmp/ipykernel_12331/405148274.py:2: DeprecationWarning: Importing display from IPython.core.display is deprecated since IPython 7.14, please import from IPython display\n",
      "  from IPython.core.display import display, HTML\n"
     ]
    },
    {
     "data": {
      "text/html": [
       "<b>Review <a target=\"blank\" href=\"./train_data_bias_report/report.html\">Bias Report</a></b>"
      ],
      "text/plain": [
       "<IPython.core.display.HTML object>"
      ]
     },
     "metadata": {},
     "output_type": "display_data"
    }
   ],
   "source": [
    "# View the bias report pdf that contains the pre-training bias and post-training bias metrics for the inference data. \n",
    "from IPython.core.display import display, HTML\n",
    "\n",
    "display(HTML('<b>Review <a target=\"blank\" href=\"./train_data_bias_report/report.html\">Bias Report</a></b>'))"
   ]
  },
  {
   "cell_type": "code",
   "execution_count": 62,
   "id": "7b26e48b-39ce-47e2-a26b-8b04fecc3e29",
   "metadata": {
    "tags": []
   },
   "outputs": [
    {
     "name": "stdout",
     "output_type": "stream",
     "text": [
      "pre-training bias metrics\n",
      "class imbalance:  0.456\n",
      "DPL:  -0.04848093083387206\n",
      "\n",
      "\n",
      "post training bias metrics\n",
      "DPPL:  -0.08403361344537819\n",
      "DI:  1.13840830449827\n"
     ]
    }
   ],
   "source": [
    "# Load the analysis file with the computed bias meterics on inference data and print some of those metrics\n",
    "import json\n",
    "with open(\"train_data_bias_report/analysis.json\") as json_file:\n",
    "    data = json.load(json_file)\n",
    "    print(\"pre-training bias metrics\")\n",
    "    class_imbalance = data[\"pre_training_bias_metrics\"][\"facets\"][\"age\"][0][\"metrics\"][1][\"value\"]\n",
    "    print(\"class imbalance: \", class_imbalance)\n",
    "    DPL = data[\"pre_training_bias_metrics\"][\"facets\"][\"age\"][0][\"metrics\"][2][\"value\"]\n",
    "    print(\"DPL: \", DPL)\n",
    "    print(\"\\n\")\n",
    "    print(\"post training bias metrics\")\n",
    "    DPPL = data[\"post_training_bias_metrics\"][\"facets\"][\"age\"][0][\"metrics\"][6][\"value\"]\n",
    "    print(\"DPPL: \", DPPL)\n",
    "    DI = data[\"post_training_bias_metrics\"][\"facets\"][\"age\"][0][\"metrics\"][5][\"value\"]\n",
    "    print(\"DI: \", DI)"
   ]
  },
  {
   "cell_type": "markdown",
   "id": "3d2f7bb0-f336-41f9-8575-90ae5df90b27",
   "metadata": {},
   "source": [
    "## BIAS FOR CAPTURED INFERENCE DATA"
   ]
  },
  {
   "cell_type": "code",
   "execution_count": 63,
   "id": "2fb83ffa-3e4a-4ed9-a5e3-c916bc964910",
   "metadata": {
    "tags": []
   },
   "outputs": [
    {
     "data": {
      "text/plain": [
       "['status',\n",
       " 'duration',\n",
       " 'credit_history',\n",
       " 'purpose',\n",
       " 'amount',\n",
       " 'savings',\n",
       " 'employment_duration',\n",
       " 'installment_rate',\n",
       " 'personal_status_sex',\n",
       " 'other_debtors',\n",
       " 'present_residence',\n",
       " 'property',\n",
       " 'age',\n",
       " 'other_installment_plans',\n",
       " 'housing',\n",
       " 'number_credits',\n",
       " 'job',\n",
       " 'people_liable',\n",
       " 'telephone',\n",
       " 'foreign_worker',\n",
       " 'credit_risk']"
      ]
     },
     "execution_count": 63,
     "metadata": {},
     "output_type": "execute_result"
    }
   ],
   "source": [
    "captured_data_headers=pd.read_csv(\"dataset/captured_data.csv\").columns.to_list()\n",
    "captured_data_headers"
   ]
  },
  {
   "cell_type": "code",
   "execution_count": 64,
   "id": "4165204b-1783-49e8-a24d-0685dd37b5a0",
   "metadata": {
    "tags": []
   },
   "outputs": [],
   "source": [
    "# cell 51\n",
    "bias_report_prefix = \"{}/clarify-bias\".format( prefix)\n",
    "bias_report_output_path = \"s3://{}/{}\".format(bucket,bias_report_prefix)\n",
    "bias_data_config = clarify.DataConfig(\n",
    "    s3_data_input_path=captured_inference_features_and_groundtruth, # S3 path of the captured inference dataset\n",
    "    s3_output_path=bias_report_output_path,\n",
    "    label=\"credit_risk\", # label of the captured inference dataset\n",
    "    headers=captured_data_headers, # headers of the captured inference dataset\n",
    "    dataset_type=\"text/csv\",\n",
    "    predicted_label_dataset_uri=captured_predicted_label, # s3 path of the captured predicted dataset \n",
    "    predicted_label_headers=[\"credit_risk\"], # headers of the captured predicted dataset\n",
    "    predicted_label=\"credit_risk\", # label of the captured predicted dataset\n",
    ")\n",
    "predictions_config = clarify.ModelPredictedLabelConfig(\n",
    "    probability_threshold=0.7 # threshold for the predicted label. Prediction above this threshold will be 1 (positive)\n",
    ")"
   ]
  },
  {
   "cell_type": "code",
   "execution_count": 65,
   "id": "49753c33-9302-4546-af22-50fc221dfbc4",
   "metadata": {
    "tags": []
   },
   "outputs": [],
   "source": [
    "\n",
    "bias_config = clarify.BiasConfig(\n",
    "    label_values_or_threshold=[1],  #List of label value(s) or threshold to indicate positive outcome used for bias metrics.\n",
    "    facet_name=\"age\", # Sensitive attribute column name (or index in the input data) to use when computing bias metrics\n",
    "    facet_values_or_threshold=[40], #The parameter controls the values of the sensitive group\n",
    "    group_name=\"personal_status_sex\", #Optional column name or index to indicate a group column to be used for the bias metric Conditional Demographic Disparity in Labels `(CDDL) or Conditional Demographic Disparity in Predicted Labels (CDDPL).\n",
    ")"
   ]
  },
  {
   "cell_type": "code",
   "execution_count": null,
   "id": "107f71af-e4fd-4277-8ef3-47e47cc7c08d",
   "metadata": {
    "tags": []
   },
   "outputs": [
    {
     "name": "stderr",
     "output_type": "stream",
     "text": [
      "INFO:sagemaker.clarify:Analysis Config: {'dataset_type': 'text/csv', 'headers': ['status', 'duration', 'credit_history', 'purpose', 'amount', 'savings', 'employment_duration', 'installment_rate', 'personal_status_sex', 'other_debtors', 'present_residence', 'property', 'age', 'other_installment_plans', 'housing', 'number_credits', 'job', 'people_liable', 'telephone', 'foreign_worker', 'credit_risk'], 'label': 'credit_risk', 'predicted_label_dataset_uri': 's3://sagemaker-us-east-1-259508681668/hybrid_approach/data/test/prediction.csv', 'predicted_label_headers': ['credit_risk'], 'predicted_label': 'credit_risk', 'label_values_or_threshold': [1], 'facet': [{'name_or_index': 'age', 'value_or_threshold': [40]}], 'group_variable': 'personal_status_sex', 'methods': {'report': {'name': 'report', 'title': 'Analysis Report'}, 'pre_training_bias': {'methods': 'all'}, 'post_training_bias': {'methods': 'all'}}, 'probability_threshold': 0.7}\n",
      "INFO:sagemaker:Creating processing-job with name Clarify-Bias-2024-01-19-20-24-17-362\n"
     ]
    },
    {
     "name": "stdout",
     "output_type": "stream",
     "text": [
      "......................."
     ]
    }
   ],
   "source": [
    "clarify_processor.run_bias(\n",
    "    data_config=bias_data_config,\n",
    "    bias_config=bias_config,\n",
    "    # model_config=model_config, #since we already have our captured predicted inference label, no need for model_config\n",
    "    model_predicted_label_config=predictions_config,\n",
    "    pre_training_methods=\"all\",\n",
    "    post_training_methods=\"all\",\n",
    ")"
   ]
  },
  {
   "cell_type": "code",
   "execution_count": 25,
   "id": "2cb83157-7a58-4102-b77b-c9dcce156c77",
   "metadata": {
    "tags": []
   },
   "outputs": [
    {
     "name": "stdout",
     "output_type": "stream",
     "text": [
      "2024-01-19 18:00:23       5548 analysis.json\n",
      "2024-01-19 17:51:43       1065 analysis_config.json\n",
      "2024-01-19 18:00:23     774174 report.html\n",
      "2024-01-19 18:00:23     503315 report.ipynb\n",
      "2024-01-19 18:00:23     475915 report.pdf\n"
     ]
    }
   ],
   "source": [
    "#Output from the Bias Job on your inference data\n",
    "!aws s3 ls $bias_report_output_path/"
   ]
  },
  {
   "cell_type": "code",
   "execution_count": 27,
   "id": "969f2564-72e4-4a53-b80b-cd573cf0ae18",
   "metadata": {
    "tags": []
   },
   "outputs": [
    {
     "name": "stdout",
     "output_type": "stream",
     "text": [
      "download: s3://sagemaker-us-east-1-259508681668/hybrid_approach/clarify-bias/analysis.json to inference_data_bias_report/analysis.json\n",
      "download: s3://sagemaker-us-east-1-259508681668/hybrid_approach/clarify-bias/analysis_config.json to inference_data_bias_report/analysis_config.json\n",
      "download: s3://sagemaker-us-east-1-259508681668/hybrid_approach/clarify-bias/report.pdf to inference_data_bias_report/report.pdf\n",
      "download: s3://sagemaker-us-east-1-259508681668/hybrid_approach/clarify-bias/report.ipynb to inference_data_bias_report/report.ipynb\n",
      "download: s3://sagemaker-us-east-1-259508681668/hybrid_approach/clarify-bias/report.html to inference_data_bias_report/report.html\n"
     ]
    }
   ],
   "source": [
    "# Download all the output files from s3 to local\n",
    "!aws s3 cp --recursive $bias_report_output_path \"./inference_data_bias_report\""
   ]
  },
  {
   "cell_type": "code",
   "execution_count": 28,
   "id": "5d1db414-e491-4d36-bf52-90dcdeee36f7",
   "metadata": {
    "tags": []
   },
   "outputs": [
    {
     "name": "stderr",
     "output_type": "stream",
     "text": [
      "/tmp/ipykernel_12331/3679871754.py:1: DeprecationWarning: Importing display from IPython.core.display is deprecated since IPython 7.14, please import from IPython display\n",
      "  from IPython.core.display import display, HTML\n"
     ]
    },
    {
     "data": {
      "text/html": [
       "<b>Review <a target=\"blank\" href=\"./inference_data_bias_report/report.html\">Bias Report</a></b>"
      ],
      "text/plain": [
       "<IPython.core.display.HTML object>"
      ]
     },
     "metadata": {},
     "output_type": "display_data"
    }
   ],
   "source": [
    "# View the bias report pdf that contains the pre-training bias and post-training bias metrics for the inference data. \n",
    "from IPython.core.display import display, HTML\n",
    "\n",
    "display(HTML('<b>Review <a target=\"blank\" href=\"./inference_data_bias_report/report.html\">Bias Report</a></b>'))"
   ]
  },
  {
   "cell_type": "code",
   "execution_count": 29,
   "id": "5ec2b91e-fa5d-4789-bcba-22fa72d58c03",
   "metadata": {
    "tags": []
   },
   "outputs": [
    {
     "name": "stdout",
     "output_type": "stream",
     "text": [
      "pre-training bias metrics\n",
      "class imbalance:  0.456\n",
      "DPL:  -0.04848093083387206\n",
      "\n",
      "\n",
      "post training bias metrics\n",
      "DPPL:  -0.08403361344537819\n",
      "DI:  1.13840830449827\n"
     ]
    }
   ],
   "source": [
    "# Load the analysis file with the computed bias meterics on inference data and print some of those metrics\n",
    "import json\n",
    "with open(\"inference_data_bias_report/analysis.json\") as json_file:\n",
    "    data = json.load(json_file)\n",
    "    print(\"pre-training bias metrics\")\n",
    "    class_imbalance = data[\"pre_training_bias_metrics\"][\"facets\"][\"age\"][0][\"metrics\"][1][\"value\"]\n",
    "    print(\"class imbalance: \", class_imbalance)\n",
    "    DPL = data[\"pre_training_bias_metrics\"][\"facets\"][\"age\"][0][\"metrics\"][2][\"value\"]\n",
    "    print(\"DPL: \", DPL)\n",
    "    print(\"\\n\")\n",
    "    print(\"post training bias metrics\")\n",
    "    DPPL = data[\"post_training_bias_metrics\"][\"facets\"][\"age\"][0][\"metrics\"][6][\"value\"]\n",
    "    print(\"DPPL: \", DPPL)\n",
    "    DI = data[\"post_training_bias_metrics\"][\"facets\"][\"age\"][0][\"metrics\"][5][\"value\"]\n",
    "    print(\"DI: \", DI)"
   ]
  },
  {
   "cell_type": "markdown",
   "id": "3239bf09-2106-4739-8f1c-c208359cdb88",
   "metadata": {},
   "source": [
    "## Compare the BIAS Metric of Cpature inference data to the baseline train data metrics using a 10% threshold"
   ]
  },
  {
   "cell_type": "code",
   "execution_count": null,
   "id": "efe0a0ea-da96-40b1-976e-c829ab91c5d6",
   "metadata": {},
   "outputs": [],
   "source": [
    "import pandas as pd\n",
    "\n",
    "def compare_metrics(dictA, dictB, threshold=0.1):\n",
    "    results = []\n",
    "    \n",
    "    metric_names = set()\n",
    "    \n",
    "    for training_type in ['pre_training_bias_metrics', 'post_training_bias_metrics']:\n",
    "        for metric_type in ['facets']:\n",
    "            for facet in dictA[training_type][metric_type]['age']:\n",
    "                metric_names.update(metric['name'] for metric in facet['metrics'])\n",
    "    \n",
    "    metric_names = sorted(metric_names)\n",
    "\n",
    "    for training_type in ['pre_training_bias_metrics', 'post_training_bias_metrics']:\n",
    "        for metric_type in ['facets']:\n",
    "            for facet in dictA[training_type][metric_type]['age']:\n",
    "                for metric_name in metric_names:\n",
    "                    value_A = next((metric['value'] for metric in facet['metrics'] if metric['name'] == metric_name), None)\n",
    "                    value_B = None\n",
    "                    error_B = None\n",
    "\n",
    "                    # Find the corresponding metric in dictB\n",
    "                    for facet_B in dictB[training_type][metric_type]['age']:\n",
    "                        if facet_B['value_or_threshold'] == facet['value_or_threshold']:\n",
    "                            for metric_B in facet_B['metrics']:\n",
    "                                if metric_B['name'] == metric_name:\n",
    "                                    value_B = metric_B.get('value')\n",
    "                                    error_B = metric_B.get('error')\n",
    "                                    break\n",
    "\n",
    "                    # Compare values if both values are not None\n",
    "                    if value_A is not None and value_B is not None and error_B is None:\n",
    "                        assessment = 'safe' if abs(value_A - value_B) <= threshold * abs(value_A) else 'alarm'\n",
    "                        results.append([metric_name, value_A, value_B, threshold, assessment])\n",
    "\n",
    "    if results:\n",
    "        df_results = pd.DataFrame(results, columns=[\"Metrics\", \"Baseline\", \"Compared\", \"threshold\", \"Assessment\"])\n",
    "        return df_results\n",
    "    else:\n",
    "        print(\"No metrics found for comparison.\")\n",
    "        return None\n",
    "\n",
    "# Call the function with your dictionaries\n",
    "comparison_df = compare_metrics(data, data)\n",
    "comparison_df"
   ]
  }
 ],
 "metadata": {
  "availableInstances": [
   {
    "_defaultOrder": 0,
    "_isFastLaunch": true,
    "category": "General purpose",
    "gpuNum": 0,
    "hideHardwareSpecs": false,
    "memoryGiB": 4,
    "name": "ml.t3.medium",
    "vcpuNum": 2
   },
   {
    "_defaultOrder": 1,
    "_isFastLaunch": false,
    "category": "General purpose",
    "gpuNum": 0,
    "hideHardwareSpecs": false,
    "memoryGiB": 8,
    "name": "ml.t3.large",
    "vcpuNum": 2
   },
   {
    "_defaultOrder": 2,
    "_isFastLaunch": false,
    "category": "General purpose",
    "gpuNum": 0,
    "hideHardwareSpecs": false,
    "memoryGiB": 16,
    "name": "ml.t3.xlarge",
    "vcpuNum": 4
   },
   {
    "_defaultOrder": 3,
    "_isFastLaunch": false,
    "category": "General purpose",
    "gpuNum": 0,
    "hideHardwareSpecs": false,
    "memoryGiB": 32,
    "name": "ml.t3.2xlarge",
    "vcpuNum": 8
   },
   {
    "_defaultOrder": 4,
    "_isFastLaunch": true,
    "category": "General purpose",
    "gpuNum": 0,
    "hideHardwareSpecs": false,
    "memoryGiB": 8,
    "name": "ml.m5.large",
    "vcpuNum": 2
   },
   {
    "_defaultOrder": 5,
    "_isFastLaunch": false,
    "category": "General purpose",
    "gpuNum": 0,
    "hideHardwareSpecs": false,
    "memoryGiB": 16,
    "name": "ml.m5.xlarge",
    "vcpuNum": 4
   },
   {
    "_defaultOrder": 6,
    "_isFastLaunch": false,
    "category": "General purpose",
    "gpuNum": 0,
    "hideHardwareSpecs": false,
    "memoryGiB": 32,
    "name": "ml.m5.2xlarge",
    "vcpuNum": 8
   },
   {
    "_defaultOrder": 7,
    "_isFastLaunch": false,
    "category": "General purpose",
    "gpuNum": 0,
    "hideHardwareSpecs": false,
    "memoryGiB": 64,
    "name": "ml.m5.4xlarge",
    "vcpuNum": 16
   },
   {
    "_defaultOrder": 8,
    "_isFastLaunch": false,
    "category": "General purpose",
    "gpuNum": 0,
    "hideHardwareSpecs": false,
    "memoryGiB": 128,
    "name": "ml.m5.8xlarge",
    "vcpuNum": 32
   },
   {
    "_defaultOrder": 9,
    "_isFastLaunch": false,
    "category": "General purpose",
    "gpuNum": 0,
    "hideHardwareSpecs": false,
    "memoryGiB": 192,
    "name": "ml.m5.12xlarge",
    "vcpuNum": 48
   },
   {
    "_defaultOrder": 10,
    "_isFastLaunch": false,
    "category": "General purpose",
    "gpuNum": 0,
    "hideHardwareSpecs": false,
    "memoryGiB": 256,
    "name": "ml.m5.16xlarge",
    "vcpuNum": 64
   },
   {
    "_defaultOrder": 11,
    "_isFastLaunch": false,
    "category": "General purpose",
    "gpuNum": 0,
    "hideHardwareSpecs": false,
    "memoryGiB": 384,
    "name": "ml.m5.24xlarge",
    "vcpuNum": 96
   },
   {
    "_defaultOrder": 12,
    "_isFastLaunch": false,
    "category": "General purpose",
    "gpuNum": 0,
    "hideHardwareSpecs": false,
    "memoryGiB": 8,
    "name": "ml.m5d.large",
    "vcpuNum": 2
   },
   {
    "_defaultOrder": 13,
    "_isFastLaunch": false,
    "category": "General purpose",
    "gpuNum": 0,
    "hideHardwareSpecs": false,
    "memoryGiB": 16,
    "name": "ml.m5d.xlarge",
    "vcpuNum": 4
   },
   {
    "_defaultOrder": 14,
    "_isFastLaunch": false,
    "category": "General purpose",
    "gpuNum": 0,
    "hideHardwareSpecs": false,
    "memoryGiB": 32,
    "name": "ml.m5d.2xlarge",
    "vcpuNum": 8
   },
   {
    "_defaultOrder": 15,
    "_isFastLaunch": false,
    "category": "General purpose",
    "gpuNum": 0,
    "hideHardwareSpecs": false,
    "memoryGiB": 64,
    "name": "ml.m5d.4xlarge",
    "vcpuNum": 16
   },
   {
    "_defaultOrder": 16,
    "_isFastLaunch": false,
    "category": "General purpose",
    "gpuNum": 0,
    "hideHardwareSpecs": false,
    "memoryGiB": 128,
    "name": "ml.m5d.8xlarge",
    "vcpuNum": 32
   },
   {
    "_defaultOrder": 17,
    "_isFastLaunch": false,
    "category": "General purpose",
    "gpuNum": 0,
    "hideHardwareSpecs": false,
    "memoryGiB": 192,
    "name": "ml.m5d.12xlarge",
    "vcpuNum": 48
   },
   {
    "_defaultOrder": 18,
    "_isFastLaunch": false,
    "category": "General purpose",
    "gpuNum": 0,
    "hideHardwareSpecs": false,
    "memoryGiB": 256,
    "name": "ml.m5d.16xlarge",
    "vcpuNum": 64
   },
   {
    "_defaultOrder": 19,
    "_isFastLaunch": false,
    "category": "General purpose",
    "gpuNum": 0,
    "hideHardwareSpecs": false,
    "memoryGiB": 384,
    "name": "ml.m5d.24xlarge",
    "vcpuNum": 96
   },
   {
    "_defaultOrder": 20,
    "_isFastLaunch": false,
    "category": "General purpose",
    "gpuNum": 0,
    "hideHardwareSpecs": true,
    "memoryGiB": 0,
    "name": "ml.geospatial.interactive",
    "supportedImageNames": [
     "sagemaker-geospatial-v1-0"
    ],
    "vcpuNum": 0
   },
   {
    "_defaultOrder": 21,
    "_isFastLaunch": true,
    "category": "Compute optimized",
    "gpuNum": 0,
    "hideHardwareSpecs": false,
    "memoryGiB": 4,
    "name": "ml.c5.large",
    "vcpuNum": 2
   },
   {
    "_defaultOrder": 22,
    "_isFastLaunch": false,
    "category": "Compute optimized",
    "gpuNum": 0,
    "hideHardwareSpecs": false,
    "memoryGiB": 8,
    "name": "ml.c5.xlarge",
    "vcpuNum": 4
   },
   {
    "_defaultOrder": 23,
    "_isFastLaunch": false,
    "category": "Compute optimized",
    "gpuNum": 0,
    "hideHardwareSpecs": false,
    "memoryGiB": 16,
    "name": "ml.c5.2xlarge",
    "vcpuNum": 8
   },
   {
    "_defaultOrder": 24,
    "_isFastLaunch": false,
    "category": "Compute optimized",
    "gpuNum": 0,
    "hideHardwareSpecs": false,
    "memoryGiB": 32,
    "name": "ml.c5.4xlarge",
    "vcpuNum": 16
   },
   {
    "_defaultOrder": 25,
    "_isFastLaunch": false,
    "category": "Compute optimized",
    "gpuNum": 0,
    "hideHardwareSpecs": false,
    "memoryGiB": 72,
    "name": "ml.c5.9xlarge",
    "vcpuNum": 36
   },
   {
    "_defaultOrder": 26,
    "_isFastLaunch": false,
    "category": "Compute optimized",
    "gpuNum": 0,
    "hideHardwareSpecs": false,
    "memoryGiB": 96,
    "name": "ml.c5.12xlarge",
    "vcpuNum": 48
   },
   {
    "_defaultOrder": 27,
    "_isFastLaunch": false,
    "category": "Compute optimized",
    "gpuNum": 0,
    "hideHardwareSpecs": false,
    "memoryGiB": 144,
    "name": "ml.c5.18xlarge",
    "vcpuNum": 72
   },
   {
    "_defaultOrder": 28,
    "_isFastLaunch": false,
    "category": "Compute optimized",
    "gpuNum": 0,
    "hideHardwareSpecs": false,
    "memoryGiB": 192,
    "name": "ml.c5.24xlarge",
    "vcpuNum": 96
   },
   {
    "_defaultOrder": 29,
    "_isFastLaunch": true,
    "category": "Accelerated computing",
    "gpuNum": 1,
    "hideHardwareSpecs": false,
    "memoryGiB": 16,
    "name": "ml.g4dn.xlarge",
    "vcpuNum": 4
   },
   {
    "_defaultOrder": 30,
    "_isFastLaunch": false,
    "category": "Accelerated computing",
    "gpuNum": 1,
    "hideHardwareSpecs": false,
    "memoryGiB": 32,
    "name": "ml.g4dn.2xlarge",
    "vcpuNum": 8
   },
   {
    "_defaultOrder": 31,
    "_isFastLaunch": false,
    "category": "Accelerated computing",
    "gpuNum": 1,
    "hideHardwareSpecs": false,
    "memoryGiB": 64,
    "name": "ml.g4dn.4xlarge",
    "vcpuNum": 16
   },
   {
    "_defaultOrder": 32,
    "_isFastLaunch": false,
    "category": "Accelerated computing",
    "gpuNum": 1,
    "hideHardwareSpecs": false,
    "memoryGiB": 128,
    "name": "ml.g4dn.8xlarge",
    "vcpuNum": 32
   },
   {
    "_defaultOrder": 33,
    "_isFastLaunch": false,
    "category": "Accelerated computing",
    "gpuNum": 4,
    "hideHardwareSpecs": false,
    "memoryGiB": 192,
    "name": "ml.g4dn.12xlarge",
    "vcpuNum": 48
   },
   {
    "_defaultOrder": 34,
    "_isFastLaunch": false,
    "category": "Accelerated computing",
    "gpuNum": 1,
    "hideHardwareSpecs": false,
    "memoryGiB": 256,
    "name": "ml.g4dn.16xlarge",
    "vcpuNum": 64
   },
   {
    "_defaultOrder": 35,
    "_isFastLaunch": false,
    "category": "Accelerated computing",
    "gpuNum": 1,
    "hideHardwareSpecs": false,
    "memoryGiB": 61,
    "name": "ml.p3.2xlarge",
    "vcpuNum": 8
   },
   {
    "_defaultOrder": 36,
    "_isFastLaunch": false,
    "category": "Accelerated computing",
    "gpuNum": 4,
    "hideHardwareSpecs": false,
    "memoryGiB": 244,
    "name": "ml.p3.8xlarge",
    "vcpuNum": 32
   },
   {
    "_defaultOrder": 37,
    "_isFastLaunch": false,
    "category": "Accelerated computing",
    "gpuNum": 8,
    "hideHardwareSpecs": false,
    "memoryGiB": 488,
    "name": "ml.p3.16xlarge",
    "vcpuNum": 64
   },
   {
    "_defaultOrder": 38,
    "_isFastLaunch": false,
    "category": "Accelerated computing",
    "gpuNum": 8,
    "hideHardwareSpecs": false,
    "memoryGiB": 768,
    "name": "ml.p3dn.24xlarge",
    "vcpuNum": 96
   },
   {
    "_defaultOrder": 39,
    "_isFastLaunch": false,
    "category": "Memory Optimized",
    "gpuNum": 0,
    "hideHardwareSpecs": false,
    "memoryGiB": 16,
    "name": "ml.r5.large",
    "vcpuNum": 2
   },
   {
    "_defaultOrder": 40,
    "_isFastLaunch": false,
    "category": "Memory Optimized",
    "gpuNum": 0,
    "hideHardwareSpecs": false,
    "memoryGiB": 32,
    "name": "ml.r5.xlarge",
    "vcpuNum": 4
   },
   {
    "_defaultOrder": 41,
    "_isFastLaunch": false,
    "category": "Memory Optimized",
    "gpuNum": 0,
    "hideHardwareSpecs": false,
    "memoryGiB": 64,
    "name": "ml.r5.2xlarge",
    "vcpuNum": 8
   },
   {
    "_defaultOrder": 42,
    "_isFastLaunch": false,
    "category": "Memory Optimized",
    "gpuNum": 0,
    "hideHardwareSpecs": false,
    "memoryGiB": 128,
    "name": "ml.r5.4xlarge",
    "vcpuNum": 16
   },
   {
    "_defaultOrder": 43,
    "_isFastLaunch": false,
    "category": "Memory Optimized",
    "gpuNum": 0,
    "hideHardwareSpecs": false,
    "memoryGiB": 256,
    "name": "ml.r5.8xlarge",
    "vcpuNum": 32
   },
   {
    "_defaultOrder": 44,
    "_isFastLaunch": false,
    "category": "Memory Optimized",
    "gpuNum": 0,
    "hideHardwareSpecs": false,
    "memoryGiB": 384,
    "name": "ml.r5.12xlarge",
    "vcpuNum": 48
   },
   {
    "_defaultOrder": 45,
    "_isFastLaunch": false,
    "category": "Memory Optimized",
    "gpuNum": 0,
    "hideHardwareSpecs": false,
    "memoryGiB": 512,
    "name": "ml.r5.16xlarge",
    "vcpuNum": 64
   },
   {
    "_defaultOrder": 46,
    "_isFastLaunch": false,
    "category": "Memory Optimized",
    "gpuNum": 0,
    "hideHardwareSpecs": false,
    "memoryGiB": 768,
    "name": "ml.r5.24xlarge",
    "vcpuNum": 96
   },
   {
    "_defaultOrder": 47,
    "_isFastLaunch": false,
    "category": "Accelerated computing",
    "gpuNum": 1,
    "hideHardwareSpecs": false,
    "memoryGiB": 16,
    "name": "ml.g5.xlarge",
    "vcpuNum": 4
   },
   {
    "_defaultOrder": 48,
    "_isFastLaunch": false,
    "category": "Accelerated computing",
    "gpuNum": 1,
    "hideHardwareSpecs": false,
    "memoryGiB": 32,
    "name": "ml.g5.2xlarge",
    "vcpuNum": 8
   },
   {
    "_defaultOrder": 49,
    "_isFastLaunch": false,
    "category": "Accelerated computing",
    "gpuNum": 1,
    "hideHardwareSpecs": false,
    "memoryGiB": 64,
    "name": "ml.g5.4xlarge",
    "vcpuNum": 16
   },
   {
    "_defaultOrder": 50,
    "_isFastLaunch": false,
    "category": "Accelerated computing",
    "gpuNum": 1,
    "hideHardwareSpecs": false,
    "memoryGiB": 128,
    "name": "ml.g5.8xlarge",
    "vcpuNum": 32
   },
   {
    "_defaultOrder": 51,
    "_isFastLaunch": false,
    "category": "Accelerated computing",
    "gpuNum": 1,
    "hideHardwareSpecs": false,
    "memoryGiB": 256,
    "name": "ml.g5.16xlarge",
    "vcpuNum": 64
   },
   {
    "_defaultOrder": 52,
    "_isFastLaunch": false,
    "category": "Accelerated computing",
    "gpuNum": 4,
    "hideHardwareSpecs": false,
    "memoryGiB": 192,
    "name": "ml.g5.12xlarge",
    "vcpuNum": 48
   },
   {
    "_defaultOrder": 53,
    "_isFastLaunch": false,
    "category": "Accelerated computing",
    "gpuNum": 4,
    "hideHardwareSpecs": false,
    "memoryGiB": 384,
    "name": "ml.g5.24xlarge",
    "vcpuNum": 96
   },
   {
    "_defaultOrder": 54,
    "_isFastLaunch": false,
    "category": "Accelerated computing",
    "gpuNum": 8,
    "hideHardwareSpecs": false,
    "memoryGiB": 768,
    "name": "ml.g5.48xlarge",
    "vcpuNum": 192
   },
   {
    "_defaultOrder": 55,
    "_isFastLaunch": false,
    "category": "Accelerated computing",
    "gpuNum": 8,
    "hideHardwareSpecs": false,
    "memoryGiB": 1152,
    "name": "ml.p4d.24xlarge",
    "vcpuNum": 96
   },
   {
    "_defaultOrder": 56,
    "_isFastLaunch": false,
    "category": "Accelerated computing",
    "gpuNum": 8,
    "hideHardwareSpecs": false,
    "memoryGiB": 1152,
    "name": "ml.p4de.24xlarge",
    "vcpuNum": 96
   },
   {
    "_defaultOrder": 57,
    "_isFastLaunch": false,
    "category": "Accelerated computing",
    "gpuNum": 0,
    "hideHardwareSpecs": false,
    "memoryGiB": 32,
    "name": "ml.trn1.2xlarge",
    "vcpuNum": 8
   },
   {
    "_defaultOrder": 58,
    "_isFastLaunch": false,
    "category": "Accelerated computing",
    "gpuNum": 0,
    "hideHardwareSpecs": false,
    "memoryGiB": 512,
    "name": "ml.trn1.32xlarge",
    "vcpuNum": 128
   },
   {
    "_defaultOrder": 59,
    "_isFastLaunch": false,
    "category": "Accelerated computing",
    "gpuNum": 0,
    "hideHardwareSpecs": false,
    "memoryGiB": 512,
    "name": "ml.trn1n.32xlarge",
    "vcpuNum": 128
   }
  ],
  "instance_type": "ml.c5.large",
  "kernelspec": {
   "display_name": "Python 3 (Data Science 3.0)",
   "language": "python",
   "name": "python3__SAGEMAKER_INTERNAL__arn:aws:sagemaker:us-east-1:081325390199:image/sagemaker-data-science-310-v1"
  },
  "language_info": {
   "codemirror_mode": {
    "name": "ipython",
    "version": 3
   },
   "file_extension": ".py",
   "mimetype": "text/x-python",
   "name": "python",
   "nbconvert_exporter": "python",
   "pygments_lexer": "ipython3",
   "version": "3.10.6"
  }
 },
 "nbformat": 4,
 "nbformat_minor": 5
}
